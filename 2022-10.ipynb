{
 "cells": [
  {
   "cell_type": "code",
   "execution_count": 1,
   "metadata": {},
   "outputs": [],
   "source": [
    "from aoc.utils.api import retrieve_input_text\n",
    "from aoc.tests.year2022.day10 import unit_test\n",
    "from aoc.solutions.year2022.day10 import solve"
   ]
  },
  {
   "cell_type": "code",
   "execution_count": 2,
   "metadata": {},
   "outputs": [],
   "source": [
    "unit_test()"
   ]
  },
  {
   "cell_type": "code",
   "execution_count": 3,
   "metadata": {},
   "outputs": [
    {
     "name": "stdout",
     "output_type": "stream",
     "text": [
      "15140\n",
      "███  ███    ██  ██  ████  ██   ██  ███  \n",
      "█  █ █  █    █ █  █    █ █  █ █  █ █  █ \n",
      "███  █  █    █ █  █   █  █    █  █ █  █ \n",
      "█  █ ███     █ ████  █   █ ██ ████ ███  \n",
      "█  █ █    █  █ █  █ █    █  █ █  █ █    \n",
      "███  █     ██  █  █ ████  ███ █  █ █    \n"
     ]
    }
   ],
   "source": [
    "input_text = retrieve_input_text(2022, 10)\n",
    "part1, part2 = solve(input_text)\n",
    "print(part1)\n",
    "print(part2)"
   ]
  },
  {
   "cell_type": "code",
   "execution_count": 4,
   "metadata": {},
   "outputs": [
    {
     "name": "stdout",
     "output_type": "stream",
     "text": [
      "239 µs ± 37.3 µs per loop (mean ± std. dev. of 7 runs, 1000 loops each)\n"
     ]
    }
   ],
   "source": [
    "%timeit solve(input_text)"
   ]
  }
 ],
 "metadata": {
  "kernelspec": {
   "display_name": "Python 3.9.7 ('base')",
   "language": "python",
   "name": "python3"
  },
  "language_info": {
   "codemirror_mode": {
    "name": "ipython",
    "version": 3
   },
   "file_extension": ".py",
   "mimetype": "text/x-python",
   "name": "python",
   "nbconvert_exporter": "python",
   "pygments_lexer": "ipython3",
   "version": "3.9.7"
  },
  "orig_nbformat": 4,
  "vscode": {
   "interpreter": {
    "hash": "610a6f344c2137faf927ea819c63f6cee33a2c04455044b28099f39fe9722347"
   }
  }
 },
 "nbformat": 4,
 "nbformat_minor": 2
}
